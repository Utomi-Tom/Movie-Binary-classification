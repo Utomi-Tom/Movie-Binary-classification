{
  "nbformat": 4,
  "nbformat_minor": 0,
  "metadata": {
    "colab": {
      "provenance": [],
      "authorship_tag": "ABX9TyPOgVYtjh9esExjvUnAHjdy",
      "include_colab_link": true
    },
    "kernelspec": {
      "name": "python3",
      "display_name": "Python 3"
    },
    "language_info": {
      "name": "python"
    },
    "accelerator": "GPU",
    "gpuClass": "standard"
  },
  "cells": [
    {
      "cell_type": "markdown",
      "metadata": {
        "id": "view-in-github",
        "colab_type": "text"
      },
      "source": [
        "<a href=\"https://colab.research.google.com/github/Utomi-Tom/Movie-Binary-classification/blob/main/IMBD_movie_classification_project.ipynb\" target=\"_parent\"><img src=\"https://colab.research.google.com/assets/colab-badge.svg\" alt=\"Open In Colab\"/></a>"
      ]
    },
    {
      "cell_type": "markdown",
      "source": [
        "## Introduction on the IMDB review project\n",
        "The IMDB dataset consist of: a set of 50,000 highly polarized reviews from the\n",
        "Internet Movie Database. They’re split into 25,000 reviews for training and 25,000\n",
        "reviews for testing, each set consisting of 50% negative and 50% positive reviews.\n",
        "\n",
        "\n",
        "Just like the MNIST dataset, the IMDB dataset comes packaged with Keras. It has\n",
        "already been preprocessed: the reviews (sequences of words) have been turned into\n",
        "sequences of integers, where each integer stands for a specific word in a dictionary."
      ],
      "metadata": {
        "id": "BknqXcLKHUIr"
      }
    },
    {
      "cell_type": "markdown",
      "source": [
        "# Importing library"
      ],
      "metadata": {
        "id": "JIyCX4rtWQ4E"
      }
    },
    {
      "cell_type": "markdown",
      "source": [
        "\n",
        "The following code will load the dataset (when you run it the first time, about\n",
        "80 MB of data will be downloaded to your machine)."
      ],
      "metadata": {
        "id": "hgDFaYwfWNgD"
      }
    },
    {
      "cell_type": "code",
      "execution_count": 1,
      "metadata": {
        "id": "MySbF3kKGedj"
      },
      "outputs": [],
      "source": [
        "import tensorflow as tf\n",
        "from tensorflow import keras\n",
        "\n",
        "import numpy as np\n",
        "import matplotlib.pyplot as plt\n"
      ]
    },
    {
      "cell_type": "code",
      "source": [
        "# Import dataset \n",
        "(x_tr, y_tr), (x_tt, y_tt) = keras.datasets.imdb.load_data(num_words=10000)"
      ],
      "metadata": {
        "id": "7K-r3p__HK6g",
        "colab": {
          "base_uri": "https://localhost:8080/"
        },
        "outputId": "8c8c1ef9-6339-463a-e701-244ed1c11474"
      },
      "execution_count": 2,
      "outputs": [
        {
          "output_type": "stream",
          "name": "stdout",
          "text": [
            "Downloading data from https://storage.googleapis.com/tensorflow/tf-keras-datasets/imdb.npz\n",
            "17464789/17464789 [==============================] - 1s 0us/step\n"
          ]
        }
      ]
    },
    {
      "cell_type": "markdown",
      "source": [
        "The argument *num_words* =10000 means you’ll only keep the top 10,000 most frequently\n",
        "occurring words in the training data. Rare words will be discarded. This allows\n",
        "you to work with vector data of manageable size."
      ],
      "metadata": {
        "id": "PrfisSqfJHQF"
      }
    },
    {
      "cell_type": "code",
      "source": [
        "word_index = keras.datasets.imdb.get_word_index()"
      ],
      "metadata": {
        "id": "0g4tysPdKIMT",
        "colab": {
          "base_uri": "https://localhost:8080/"
        },
        "outputId": "dd5c279a-2928-42bb-8e5f-68d80c056dc8"
      },
      "execution_count": 3,
      "outputs": [
        {
          "output_type": "stream",
          "name": "stdout",
          "text": [
            "Downloading data from https://storage.googleapis.com/tensorflow/tf-keras-datasets/imdb_word_index.json\n",
            "1641221/1641221 [==============================] - 0s 0us/step\n"
          ]
        }
      ]
    },
    {
      "cell_type": "markdown",
      "source": [
        "Above code is how I quickly decode one of these reviews back to English\n",
        "words:\n",
        "\n",
        "\n",
        "*get_word_index* is a dictionary, mapping\n",
        "words to an integer index."
      ],
      "metadata": {
        "id": "-KDgRXkWKHVM"
      }
    },
    {
      "cell_type": "code",
      "source": [
        "r_word_ind = dict([(value, key) for (key, value) in word_index.items()])"
      ],
      "metadata": {
        "id": "AlhVNY7cLpt3"
      },
      "execution_count": 4,
      "outputs": []
    },
    {
      "cell_type": "markdown",
      "source": [
        "The above code reverses the mapping process, by mapping\n",
        "integer indices to words."
      ],
      "metadata": {
        "id": "sAzbWv19Mr0L"
      }
    },
    {
      "cell_type": "code",
      "source": [
        "decoded_review = \"\".join([r_word_ind.get(i - 3, \"?\") for i in x_tr[3]])"
      ],
      "metadata": {
        "id": "LFhyhKNeMmAL"
      },
      "execution_count": 5,
      "outputs": []
    },
    {
      "cell_type": "code",
      "source": [
        "decoded_review\n"
      ],
      "metadata": {
        "colab": {
          "base_uri": "https://localhost:8080/",
          "height": 157
        },
        "id": "m2dq6ImtNhtE",
        "outputId": "0628ddee-faf3-4e5a-e5ed-374ac5c763de"
      },
      "execution_count": 6,
      "outputs": [
        {
          "output_type": "execute_result",
          "data": {
            "text/plain": [
              "\"?the??atstorytellingthetraditionalsortmanyyearsaftertheeventicanstillseeinmy?eyeanelderlyladymyfriend'smotherretellingthebattleof?shemakesthecharacterscomealiveherpassionisthatofaneyewitnessonetotheeventsonthe?heathamileorsofromwhereshelivesbrbrofcourseithappenedmanyyearsbeforeshewasbornbutyouwouldn'tguessfromthewayshetellsitthesamestoryistoldinbarsthelengthand?ofscotlandasidiscusseditwithafriendonenightin?alocalcutintogivehisversionthediscussioncontinuedtoclosingtimebrbrstoriespasseddownlikethisbecomepartofourbeingwhodoesn'trememberthestoriesourparentstolduswhenwewerechildrentheybecomeourinvisibleworldandaswegrowoldertheymaybestillserveasinspirationorasanemotional?factandfictionblendwith?rolemodelswarningstories?magicandmysterybrbrmynameis?likemygrandfatherandhisgrandfatherbeforehimourprotagonistintroduceshimselftousandalsointroducesthestorythatstretchesbackthroughgenerationsitproducesstorieswithinstoriesstoriesthatevokethe?wonderofscotlanditsruggedmountains?in?thestuffoflegendyet?is?inrealitythisiswhatgivesititsspecialcharmithasaroughbeautyandauthenticity?withsomeofthefinest?singingyouwilleverhearbrbr??visitshisgrandfatherinhospitalshortlybeforehisdeathheburnswithfrustrationpartofhim?tobeinthetwentyfirstcenturytohangoutin?butheisraisedonthewestern?amonga?speakingcommunitybrbryetthereisadeeperconflictwithinhimhe?toknowthetruththetruthbehindhis?ancientstorieswheredoesfictionendandhewantstoknowthetruthbehindthedeathofhisparentsbrbrheispulledtomakealast?journeytothe?ofoneof?most?mountainscanthetruthbetoldorisitallinstoriesbrbrinthisstoryaboutstorieswe?bloodybattles?loversthe?ofoldandthesometimesmore??ofacceptedtruthindoingsoweeachconnectwith?ashelivesthestoryofhisownlifebrbr?the??isprobablythemosthonest?andgenuinelybeautifulfilmofscotlandevermadelike?igotslightlyannoyedwiththe?ofhangingstoriesonmorestoriesbutalsolike?i?thisonceisawthe?picture'forgettheboxoffice?ofbraveheartanditslikeyoumighteven?the?famous?ofthewickermantoseeafilmthatistruetoscotlandthisoneisprobablyuniqueifyoumaybe?onitdeeplyenoughyoumightevenre?thepowerofstorytellingandtheageoldquestionofwhethertherearesometruthsthatcannotbetoldbutonlyexperienced\""
            ],
            "application/vnd.google.colaboratory.intrinsic+json": {
              "type": "string"
            }
          },
          "metadata": {},
          "execution_count": 6
        }
      ]
    },
    {
      "cell_type": "markdown",
      "source": [
        "The variables **x_tr and x_tt** are lists of reviews; each review is a list of\n",
        "word indices (encoding a sequence of words).**y_tr and y_tt** are\n",
        "lists of 0s and 1s, where 0 stands for negative and 1 stands for positive:"
      ],
      "metadata": {
        "id": "chbHnzzwJP85"
      }
    },
    {
      "cell_type": "code",
      "source": [],
      "metadata": {
        "id": "6a7iosllOfyf"
      },
      "execution_count": null,
      "outputs": []
    },
    {
      "cell_type": "markdown",
      "source": [
        "# Preparing the data\n",
        "\n",
        "Because I cannot feed lists of integers into a neural network. I need to turn your lists into tensors and there are two ways to do that.\n",
        "\n",
        "\n",
        "*  Pad your lists so that they all have the same length, turn them into an integer\n",
        "tensor of shape (samples, word_indices), and then use as the first layer in\n",
        "your network a layer capable of handling such integer tensors. \n",
        "*  One-hot encode your lists to turn them into vectors of 0s and 1s. This would\n",
        "mean, for instance, turning the sequence [3, 5] into a 10,000-dimensional vector\n",
        "that would be all 0s except for indices 3 and 5, which would be 1s. Then you\n",
        "could use as the first layer in your network a Dense layer, capable of handling\n",
        "floating-point vector data.\n",
        "\n",
        "\n",
        "\n",
        "Let’s go with the latter solution to vectorize the data, which you’ll do manually for\n",
        "maximum clarity.\n"
      ],
      "metadata": {
        "id": "GXC_V0d_N3tY"
      }
    },
    {
      "cell_type": "code",
      "source": [
        "# Encoding the integer sequences into a binary matrix\n",
        "\n",
        "def vectorize_seq (sequence, dim= 10000):\n",
        "  results = np.zeros((len(sequence), dim))\n",
        "  for i, sequence in enumerate(sequence):\n",
        "    results[i, sequence] = 1\n",
        "  return results"
      ],
      "metadata": {
        "id": "MuP8ZBSoNjl9"
      },
      "execution_count": 11,
      "outputs": []
    },
    {
      "cell_type": "code",
      "source": [
        "train_data = vectorize_seq(x_tr)\n",
        "print(train_data\n",
        "      )"
      ],
      "metadata": {
        "colab": {
          "base_uri": "https://localhost:8080/"
        },
        "id": "d3HTSHO08uig",
        "outputId": "5dd76365-298f-4127-ccad-64601996b6fb"
      },
      "execution_count": 12,
      "outputs": [
        {
          "output_type": "stream",
          "name": "stdout",
          "text": [
            "[[0. 1. 1. ... 0. 0. 0.]\n",
            " [0. 1. 1. ... 0. 0. 0.]\n",
            " [0. 1. 1. ... 0. 0. 0.]\n",
            " ...\n",
            " [0. 1. 1. ... 0. 0. 0.]\n",
            " [0. 1. 1. ... 0. 0. 0.]\n",
            " [0. 1. 1. ... 0. 0. 0.]]\n"
          ]
        }
      ]
    },
    {
      "cell_type": "code",
      "source": [
        "test_data = vectorize_seq(x_tt)\n",
        "print(test_data\n",
        "      )"
      ],
      "metadata": {
        "colab": {
          "base_uri": "https://localhost:8080/"
        },
        "id": "o-XsEXuG88zF",
        "outputId": "12e1a64c-aa3a-4cb5-dbcd-11bdd32bb3f3"
      },
      "execution_count": 13,
      "outputs": [
        {
          "output_type": "stream",
          "name": "stdout",
          "text": [
            "[[0. 1. 1. ... 0. 0. 0.]\n",
            " [0. 1. 1. ... 0. 0. 0.]\n",
            " [0. 1. 1. ... 0. 0. 0.]\n",
            " ...\n",
            " [0. 1. 1. ... 0. 0. 0.]\n",
            " [0. 1. 1. ... 0. 0. 0.]\n",
            " [0. 1. 1. ... 0. 0. 0.]]\n"
          ]
        }
      ]
    },
    {
      "cell_type": "code",
      "source": [
        "# Vectorize labels as well\n",
        "\n",
        "label_train = np.asarray(y_tr).astype(\"float32\")\n",
        "label_test = np.asarray(y_tt).astype(\"float32\")"
      ],
      "metadata": {
        "id": "1-RlstMf9CoE"
      },
      "execution_count": 14,
      "outputs": []
    },
    {
      "cell_type": "code",
      "source": [
        "len(train_data)"
      ],
      "metadata": {
        "colab": {
          "base_uri": "https://localhost:8080/"
        },
        "id": "FLhEl1934j-z",
        "outputId": "6e5e0cda-0862-4d44-f335-7f97152ea095"
      },
      "execution_count": 15,
      "outputs": [
        {
          "output_type": "execute_result",
          "data": {
            "text/plain": [
              "25000"
            ]
          },
          "metadata": {},
          "execution_count": 15
        }
      ]
    },
    {
      "cell_type": "code",
      "source": [
        "x_tr = train_data[12000:]\n",
        "y_tr = label_train[12000:]\n",
        "\n",
        "val_train = train_data[12001:20000]\n",
        "val_label = label_train[12001:20000]\n",
        "\n",
        "test_train= train_data[20001:25000]\n",
        "test_label = label_train[20001:25000]"
      ],
      "metadata": {
        "id": "kxb-GtUG3wvN"
      },
      "execution_count": 16,
      "outputs": []
    },
    {
      "cell_type": "code",
      "source": [],
      "metadata": {
        "id": "Qt4rYAaf4-MI"
      },
      "execution_count": null,
      "outputs": []
    },
    {
      "cell_type": "markdown",
      "source": [
        "Now the data is ready to be fed into a neural network.\n",
        "\n",
        "# Building your network"
      ],
      "metadata": {
        "id": "i0r0cDtH-Lnp"
      }
    },
    {
      "cell_type": "code",
      "source": [
        "from keras import models\n",
        "from keras import layers"
      ],
      "metadata": {
        "id": "5LC2T7V0-AGH"
      },
      "execution_count": 17,
      "outputs": []
    },
    {
      "cell_type": "code",
      "source": [
        "# Defining Model architecture\n",
        "model= models.Sequential()\n",
        "model.add(layers.Dense(16, activation=\"relu\", input_shape=(10000, )))\n",
        "model.add(layers.Dense(16, activation= \"relu\"))\n",
        "model.add(layers.Dense(1, activation=\"sigmoid\"))"
      ],
      "metadata": {
        "id": "75BMjpAsmIth"
      },
      "execution_count": 18,
      "outputs": []
    },
    {
      "cell_type": "code",
      "source": [
        "# Instantiate Optimizer and Loss functions\n",
        "\n",
        "optimizer = tf.keras.optimizers.RMSprop()\n",
        "loss = tf.keras.losses.BinaryCrossentropy(from_logits=True,)\n",
        "\n"
      ],
      "metadata": {
        "id": "0seKek09mOBI"
      },
      "execution_count": 19,
      "outputs": []
    },
    {
      "cell_type": "code",
      "source": [
        "# Compiling the model \n",
        "\n",
        "model.compile(optimizer=optimizer, loss=loss, metrics=[\"accuracy\"])\n",
        "\n"
      ],
      "metadata": {
        "id": "CNBjF9MPniKL"
      },
      "execution_count": 20,
      "outputs": []
    },
    {
      "cell_type": "code",
      "source": [
        "history = model.fit(x_tr, y_tr, epochs=35, batch_size=100, validation_data=(val_train, val_label))"
      ],
      "metadata": {
        "id": "bvkcQaWdn4qY",
        "colab": {
          "base_uri": "https://localhost:8080/"
        },
        "outputId": "6fa3cfba-a374-4f0e-cdd0-96ef7b2ccd7f"
      },
      "execution_count": 21,
      "outputs": [
        {
          "output_type": "stream",
          "name": "stdout",
          "text": [
            "Epoch 1/35\n"
          ]
        },
        {
          "output_type": "stream",
          "name": "stderr",
          "text": [
            "/usr/local/lib/python3.8/dist-packages/tensorflow/python/util/dispatch.py:1082: UserWarning: \"`binary_crossentropy` received `from_logits=True`, but the `output` argument was produced by a sigmoid or softmax activation and thus does not represent logits. Was this intended?\"\n",
            "  return dispatch_target(*args, **kwargs)\n"
          ]
        },
        {
          "output_type": "stream",
          "name": "stdout",
          "text": [
            "130/130 [==============================] - 4s 11ms/step - loss: 0.4043 - accuracy: 0.8379 - val_loss: 0.2001 - val_accuracy: 0.9361\n",
            "Epoch 2/35\n",
            "130/130 [==============================] - 1s 7ms/step - loss: 0.2077 - accuracy: 0.9238 - val_loss: 0.1265 - val_accuracy: 0.9595\n",
            "Epoch 3/35\n",
            "130/130 [==============================] - 1s 7ms/step - loss: 0.1485 - accuracy: 0.9455 - val_loss: 0.0938 - val_accuracy: 0.9720\n",
            "Epoch 4/35\n",
            "130/130 [==============================] - 1s 7ms/step - loss: 0.1091 - accuracy: 0.9625 - val_loss: 0.0621 - val_accuracy: 0.9829\n",
            "Epoch 5/35\n",
            "130/130 [==============================] - 1s 7ms/step - loss: 0.0790 - accuracy: 0.9737 - val_loss: 0.0742 - val_accuracy: 0.9729\n",
            "Epoch 6/35\n",
            "130/130 [==============================] - 1s 6ms/step - loss: 0.0569 - accuracy: 0.9820 - val_loss: 0.0253 - val_accuracy: 0.9937\n",
            "Epoch 7/35\n",
            "130/130 [==============================] - 1s 6ms/step - loss: 0.0398 - accuracy: 0.9880 - val_loss: 0.0168 - val_accuracy: 0.9964\n",
            "Epoch 8/35\n",
            "130/130 [==============================] - 1s 7ms/step - loss: 0.0259 - accuracy: 0.9919 - val_loss: 0.0104 - val_accuracy: 0.9977\n",
            "Epoch 9/35\n",
            "130/130 [==============================] - 1s 6ms/step - loss: 0.0160 - accuracy: 0.9957 - val_loss: 0.0051 - val_accuracy: 0.9997\n",
            "Epoch 10/35\n",
            "130/130 [==============================] - 1s 7ms/step - loss: 0.0096 - accuracy: 0.9975 - val_loss: 0.0026 - val_accuracy: 0.9999\n",
            "Epoch 11/35\n",
            "130/130 [==============================] - 1s 7ms/step - loss: 0.0051 - accuracy: 0.9992 - val_loss: 0.0014 - val_accuracy: 0.9999\n",
            "Epoch 12/35\n",
            "130/130 [==============================] - 1s 6ms/step - loss: 0.0027 - accuracy: 0.9994 - val_loss: 0.0026 - val_accuracy: 0.9992\n",
            "Epoch 13/35\n",
            "130/130 [==============================] - 1s 7ms/step - loss: 0.0022 - accuracy: 0.9998 - val_loss: 5.3904e-04 - val_accuracy: 0.9999\n",
            "Epoch 14/35\n",
            "130/130 [==============================] - 1s 7ms/step - loss: 0.0010 - accuracy: 0.9998 - val_loss: 2.0879e-04 - val_accuracy: 1.0000\n",
            "Epoch 15/35\n",
            "130/130 [==============================] - 1s 7ms/step - loss: 5.2728e-04 - accuracy: 0.9998 - val_loss: 1.3524e-04 - val_accuracy: 1.0000\n",
            "Epoch 16/35\n",
            "130/130 [==============================] - 1s 7ms/step - loss: 6.7174e-04 - accuracy: 0.9998 - val_loss: 5.7206e-05 - val_accuracy: 1.0000\n",
            "Epoch 17/35\n",
            "130/130 [==============================] - 1s 6ms/step - loss: 1.8390e-04 - accuracy: 0.9999 - val_loss: 2.6414e-05 - val_accuracy: 1.0000\n",
            "Epoch 18/35\n",
            "130/130 [==============================] - 1s 6ms/step - loss: 6.9994e-05 - accuracy: 1.0000 - val_loss: 1.6065e-05 - val_accuracy: 1.0000\n",
            "Epoch 19/35\n",
            "130/130 [==============================] - 1s 6ms/step - loss: 2.1061e-05 - accuracy: 1.0000 - val_loss: 6.0675e-06 - val_accuracy: 1.0000\n",
            "Epoch 20/35\n",
            "130/130 [==============================] - 1s 7ms/step - loss: 2.9539e-05 - accuracy: 1.0000 - val_loss: 2.9670e-06 - val_accuracy: 1.0000\n",
            "Epoch 21/35\n",
            "130/130 [==============================] - 1s 7ms/step - loss: 3.2741e-06 - accuracy: 1.0000 - val_loss: 1.4365e-06 - val_accuracy: 1.0000\n",
            "Epoch 22/35\n",
            "130/130 [==============================] - 1s 6ms/step - loss: 8.8196e-07 - accuracy: 1.0000 - val_loss: 4.2466e-07 - val_accuracy: 1.0000\n",
            "Epoch 23/35\n",
            "130/130 [==============================] - 1s 6ms/step - loss: 2.2476e-07 - accuracy: 1.0000 - val_loss: 1.6473e-07 - val_accuracy: 1.0000\n",
            "Epoch 24/35\n",
            "130/130 [==============================] - 1s 7ms/step - loss: 7.2829e-08 - accuracy: 1.0000 - val_loss: 4.6309e-08 - val_accuracy: 1.0000\n",
            "Epoch 25/35\n",
            "130/130 [==============================] - 1s 7ms/step - loss: 3.1376e-08 - accuracy: 1.0000 - val_loss: 2.2013e-08 - val_accuracy: 1.0000\n",
            "Epoch 26/35\n",
            "130/130 [==============================] - 1s 7ms/step - loss: 1.5092e-08 - accuracy: 1.0000 - val_loss: 1.3354e-08 - val_accuracy: 1.0000\n",
            "Epoch 27/35\n",
            "130/130 [==============================] - 1s 7ms/step - loss: 9.6974e-09 - accuracy: 1.0000 - val_loss: 8.6198e-09 - val_accuracy: 1.0000\n",
            "Epoch 28/35\n",
            "130/130 [==============================] - 1s 7ms/step - loss: 6.6632e-09 - accuracy: 1.0000 - val_loss: 6.3054e-09 - val_accuracy: 1.0000\n",
            "Epoch 29/35\n",
            "130/130 [==============================] - 2s 12ms/step - loss: 5.2225e-09 - accuracy: 1.0000 - val_loss: 5.0398e-09 - val_accuracy: 1.0000\n",
            "Epoch 30/35\n",
            "130/130 [==============================] - 1s 8ms/step - loss: 4.1629e-09 - accuracy: 1.0000 - val_loss: 4.1426e-09 - val_accuracy: 1.0000\n",
            "Epoch 31/35\n",
            "130/130 [==============================] - 1s 7ms/step - loss: 3.5810e-09 - accuracy: 1.0000 - val_loss: 3.6507e-09 - val_accuracy: 1.0000\n",
            "Epoch 32/35\n",
            "130/130 [==============================] - 1s 7ms/step - loss: 3.1646e-09 - accuracy: 1.0000 - val_loss: 3.1367e-09 - val_accuracy: 1.0000\n",
            "Epoch 33/35\n",
            "130/130 [==============================] - 1s 7ms/step - loss: 2.8670e-09 - accuracy: 1.0000 - val_loss: 3.0062e-09 - val_accuracy: 1.0000\n",
            "Epoch 34/35\n",
            "130/130 [==============================] - 1s 8ms/step - loss: 2.6217e-09 - accuracy: 1.0000 - val_loss: 2.6592e-09 - val_accuracy: 1.0000\n",
            "Epoch 35/35\n",
            "130/130 [==============================] - 1s 8ms/step - loss: 2.4760e-09 - accuracy: 1.0000 - val_loss: 2.4613e-09 - val_accuracy: 1.0000\n"
          ]
        }
      ]
    },
    {
      "cell_type": "code",
      "source": [],
      "metadata": {
        "id": "5XfkBx4T2dih"
      },
      "execution_count": null,
      "outputs": []
    },
    {
      "cell_type": "code",
      "source": [
        "# Check learning history of the trained model\n",
        "\n",
        "history_dict = history.history\n",
        "type(history_dict)\n",
        "\n",
        "history_dict.keys()\n",
        "\n"
      ],
      "metadata": {
        "colab": {
          "base_uri": "https://localhost:8080/"
        },
        "id": "xGsYCH8E7Lkz",
        "outputId": "38e7b5bf-e37d-4b2c-ff83-b589e7c42ea6"
      },
      "execution_count": 22,
      "outputs": [
        {
          "output_type": "execute_result",
          "data": {
            "text/plain": [
              "dict_keys(['loss', 'accuracy', 'val_loss', 'val_accuracy'])"
            ]
          },
          "metadata": {},
          "execution_count": 22
        }
      ]
    },
    {
      "cell_type": "markdown",
      "source": [
        "# Plotting the training and validation loss"
      ],
      "metadata": {
        "id": "Qsn8CFQk18hY"
      }
    },
    {
      "cell_type": "code",
      "source": [
        "\n",
        "hist = history.history\n",
        "\n",
        "loss_values = hist[\"loss\"]\n",
        "accuracy = hist[\"accuracy\"]\n",
        "val_loss = hist['val_loss']\n",
        "val_accuracy = hist[\"val_accuracy\"]\n",
        "\n",
        "\n",
        "epochs= range(1, 36)\n",
        "epochs\n",
        "\n"
      ],
      "metadata": {
        "colab": {
          "base_uri": "https://localhost:8080/"
        },
        "id": "nq9YNTdk3TJi",
        "outputId": "4089a251-4e3d-4249-eeae-99f7dcdb2814"
      },
      "execution_count": 23,
      "outputs": [
        {
          "output_type": "execute_result",
          "data": {
            "text/plain": [
              "range(1, 36)"
            ]
          },
          "metadata": {},
          "execution_count": 23
        }
      ]
    },
    {
      "cell_type": "code",
      "source": [
        "fig = plt.figure(figsize=(15,10\n",
        "                          ))\n",
        "ax= plt.subplot( 1,2,1 )\n",
        "plt.plot(epochs, loss_values,label=\"Training loss\")\n",
        "plt.plot(epochs, val_loss, label = \"Validation loss\")\n",
        "plt.title('Training and validation loss')\n",
        "plt.xlabel('Epochs')\n",
        "plt.ylabel('Loss')\n",
        "plt.legend()\n",
        "ax = plt.subplot(1,2,2)\n",
        "plt.plot(epochs, accuracy,label=\"Training accuracy\")\n",
        "plt.plot(epochs, val_accuracy, label = \"Validation accuracy\")\n",
        "plt.title('Training and validation accuracy')\n",
        "plt.xlabel('Epochs')\n",
        "plt.ylabel('Accuracy')\n",
        "plt.legend()\n"
      ],
      "metadata": {
        "id": "nnCMwzlD7VNs",
        "colab": {
          "base_uri": "https://localhost:8080/",
          "height": 638
        },
        "outputId": "4680b832-773a-48bd-9c82-d602abd3a734"
      },
      "execution_count": 24,
      "outputs": [
        {
          "output_type": "execute_result",
          "data": {
            "text/plain": [
              "<matplotlib.legend.Legend at 0x7f83a863fa00>"
            ]
          },
          "metadata": {},
          "execution_count": 24
        },
        {
          "output_type": "display_data",
          "data": {
            "text/plain": [
              "<Figure size 1080x720 with 2 Axes>"
            ],
            "image/png": "[encoded data removed]"
          },
          "metadata": {
            "needs_background": "light"
          }
        }
      ]
    },
    {
      "cell_type": "code",
      "source": [
        "# Model predictions of unknown data\n",
        "\n",
        "Model_pred = model.predict(test_train)"
      ],
      "metadata": {
        "id": "Mx2cDIWT2cs0",
        "colab": {
          "base_uri": "https://localhost:8080/"
        },
        "outputId": "f3e7a6c5-68b7-48af-dcae-d606dae1778e"
      },
      "execution_count": 25,
      "outputs": [
        {
          "output_type": "stream",
          "name": "stdout",
          "text": [
            "157/157 [==============================] - 1s 4ms/step\n"
          ]
        }
      ]
    },
    {
      "cell_type": "code",
      "source": [
        "Model_pred"
      ],
      "metadata": {
        "colab": {
          "base_uri": "https://localhost:8080/"
        },
        "id": "7mI9_3YecpOx",
        "outputId": "2a8d645f-0ddf-4aa5-91ec-2b83bc8a198b"
      },
      "execution_count": 26,
      "outputs": [
        {
          "output_type": "execute_result",
          "data": {
            "text/plain": [
              "array([[3.1608612e-15],\n",
              "       [1.5547911e-08],\n",
              "       [6.8956967e-21],\n",
              "       ...,\n",
              "       [4.4078363e-21],\n",
              "       [1.0000000e+00],\n",
              "       [2.8728967e-11]], dtype=float32)"
            ]
          },
          "metadata": {},
          "execution_count": 26
        }
      ]
    },
    {
      "cell_type": "code",
      "source": [],
      "metadata": {
        "id": "kiemTIQ0c9T9"
      },
      "execution_count": null,
      "outputs": []
    }
  ]
}