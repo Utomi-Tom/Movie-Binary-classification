{
  "nbformat": 4,
  "nbformat_minor": 0,
  "metadata": {
    "colab": {
      "provenance": [],
      "authorship_tag": "ABX9TyMANUhzeDWh5Hrht1hYA8R1",
      "include_colab_link": true
    },
    "kernelspec": {
      "name": "python3",
      "display_name": "Python 3"
    },
    "language_info": {
      "name": "python"
    },
    "accelerator": "GPU",
    "gpuClass": "standard"
  },
  "cells": [
    {
      "cell_type": "markdown",
      "metadata": {
        "id": "view-in-github",
        "colab_type": "text"
      },
      "source": [
        "<a href=\"https://colab.research.google.com/github/Utomi-Tom/Movie-Binary-classification/blob/main/IMBD_movie_classification_project.ipynb\" target=\"_parent\"><img src=\"https://colab.research.google.com/assets/colab-badge.svg\" alt=\"Open In Colab\"/></a>"
      ]
    },
    {
      "cell_type": "markdown",
      "source": [
        "## Introduction on the IMDB review project\n",
        "The IMDB dataset consist of: a set of 50,000 highly polarized reviews from the\n",
        "Internet Movie Database. They’re split into 25,000 reviews for training and 25,000\n",
        "reviews for testing, each set consisting of 50% negative and 50% positive reviews.\n",
        "\n",
        "\n",
        "Just like the MNIST dataset, the IMDB dataset comes packaged with Keras. It has\n",
        "already been preprocessed: the reviews (sequences of words) have been turned into\n",
        "sequences of integers, where each integer stands for a specific word in a dictionary."
      ],
      "metadata": {
        "id": "BknqXcLKHUIr"
      }
    },
    {
      "cell_type": "markdown",
      "source": [
        "# Importing library"
      ],
      "metadata": {
        "id": "JIyCX4rtWQ4E"
      }
    },
    {
      "cell_type": "markdown",
      "source": [
        "\n",
        "The following code will load the dataset (when you run it the first time, about\n",
        "80 MB of data will be downloaded to your machine)."
      ],
      "metadata": {
        "id": "hgDFaYwfWNgD"
      }
    },
    {
      "cell_type": "code",
      "execution_count": 1,
      "metadata": {
        "id": "MySbF3kKGedj"
      },
      "outputs": [],
      "source": [
        "import tensorflow as tf\n",
        "from tensorflow import keras\n",
        "\n",
        "import numpy as np"
      ]
    },
    {
      "cell_type": "code",
      "source": [
        "# Import dataset \n",
        "(x_tr, y_tr), (x_tt, y_tt) = keras.datasets.imdb.load_data(num_words=10000)"
      ],
      "metadata": {
        "id": "7K-r3p__HK6g",
        "colab": {
          "base_uri": "https://localhost:8080/"
        },
        "outputId": "3a6d2de5-3878-4ad8-8f25-be3aa129a63d"
      },
      "execution_count": 2,
      "outputs": [
        {
          "output_type": "stream",
          "name": "stdout",
          "text": [
            "Downloading data from https://storage.googleapis.com/tensorflow/tf-keras-datasets/imdb.npz\n",
            "17464789/17464789 [==============================] - 0s 0us/step\n"
          ]
        }
      ]
    },
    {
      "cell_type": "markdown",
      "source": [
        "The argument *num_words* =10000 means you’ll only keep the top 10,000 most frequently\n",
        "occurring words in the training data. Rare words will be discarded. This allows\n",
        "you to work with vector data of manageable size."
      ],
      "metadata": {
        "id": "PrfisSqfJHQF"
      }
    },
    {
      "cell_type": "code",
      "source": [
        "word_index = keras.datasets.imdb.get_word_index()"
      ],
      "metadata": {
        "id": "0g4tysPdKIMT",
        "colab": {
          "base_uri": "https://localhost:8080/"
        },
        "outputId": "34d04f4b-6092-4f1c-e03c-c39bd4958992"
      },
      "execution_count": 3,
      "outputs": [
        {
          "output_type": "stream",
          "name": "stdout",
          "text": [
            "Downloading data from https://storage.googleapis.com/tensorflow/tf-keras-datasets/imdb_word_index.json\n",
            "1641221/1641221 [==============================] - 0s 0us/step\n"
          ]
        }
      ]
    },
    {
      "cell_type": "markdown",
      "source": [
        "Above code is how I quickly decode one of these reviews back to English\n",
        "words:\n",
        "\n",
        "\n",
        "*get_word_index* is a dictionary, mapping\n",
        "words to an integer index."
      ],
      "metadata": {
        "id": "-KDgRXkWKHVM"
      }
    },
    {
      "cell_type": "code",
      "source": [
        "r_word_ind = dict([(value, key) for (key, value) in word_index.items()])"
      ],
      "metadata": {
        "id": "AlhVNY7cLpt3"
      },
      "execution_count": 4,
      "outputs": []
    },
    {
      "cell_type": "markdown",
      "source": [
        "The above code reverses the mapping process, by mapping\n",
        "integer indices to words."
      ],
      "metadata": {
        "id": "sAzbWv19Mr0L"
      }
    },
    {
      "cell_type": "code",
      "source": [
        "decoded_review = \"\".join([r_word_ind.get(i - 3, \"?\") for i in x_tr[3]])"
      ],
      "metadata": {
        "id": "LFhyhKNeMmAL"
      },
      "execution_count": 5,
      "outputs": []
    },
    {
      "cell_type": "code",
      "source": [
        "decoded_review\n"
      ],
      "metadata": {
        "colab": {
          "base_uri": "https://localhost:8080/",
          "height": 157
        },
        "id": "m2dq6ImtNhtE",
        "outputId": "82c4b7e0-f5b6-4543-b5fd-a07ccb709b17"
      },
      "execution_count": 6,
      "outputs": [
        {
          "output_type": "execute_result",
          "data": {
            "text/plain": [
              "\"?the??atstorytellingthetraditionalsortmanyyearsaftertheeventicanstillseeinmy?eyeanelderlyladymyfriend'smotherretellingthebattleof?shemakesthecharacterscomealiveherpassionisthatofaneyewitnessonetotheeventsonthe?heathamileorsofromwhereshelivesbrbrofcourseithappenedmanyyearsbeforeshewasbornbutyouwouldn'tguessfromthewayshetellsitthesamestoryistoldinbarsthelengthand?ofscotlandasidiscusseditwithafriendonenightin?alocalcutintogivehisversionthediscussioncontinuedtoclosingtimebrbrstoriespasseddownlikethisbecomepartofourbeingwhodoesn'trememberthestoriesourparentstolduswhenwewerechildrentheybecomeourinvisibleworldandaswegrowoldertheymaybestillserveasinspirationorasanemotional?factandfictionblendwith?rolemodelswarningstories?magicandmysterybrbrmynameis?likemygrandfatherandhisgrandfatherbeforehimourprotagonistintroduceshimselftousandalsointroducesthestorythatstretchesbackthroughgenerationsitproducesstorieswithinstoriesstoriesthatevokethe?wonderofscotlanditsruggedmountains?in?thestuffoflegendyet?is?inrealitythisiswhatgivesititsspecialcharmithasaroughbeautyandauthenticity?withsomeofthefinest?singingyouwilleverhearbrbr??visitshisgrandfatherinhospitalshortlybeforehisdeathheburnswithfrustrationpartofhim?tobeinthetwentyfirstcenturytohangoutin?butheisraisedonthewestern?amonga?speakingcommunitybrbryetthereisadeeperconflictwithinhimhe?toknowthetruththetruthbehindhis?ancientstorieswheredoesfictionendandhewantstoknowthetruthbehindthedeathofhisparentsbrbrheispulledtomakealast?journeytothe?ofoneof?most?mountainscanthetruthbetoldorisitallinstoriesbrbrinthisstoryaboutstorieswe?bloodybattles?loversthe?ofoldandthesometimesmore??ofacceptedtruthindoingsoweeachconnectwith?ashelivesthestoryofhisownlifebrbr?the??isprobablythemosthonest?andgenuinelybeautifulfilmofscotlandevermadelike?igotslightlyannoyedwiththe?ofhangingstoriesonmorestoriesbutalsolike?i?thisonceisawthe?picture'forgettheboxoffice?ofbraveheartanditslikeyoumighteven?the?famous?ofthewickermantoseeafilmthatistruetoscotlandthisoneisprobablyuniqueifyoumaybe?onitdeeplyenoughyoumightevenre?thepowerofstorytellingandtheageoldquestionofwhethertherearesometruthsthatcannotbetoldbutonlyexperienced\""
            ],
            "application/vnd.google.colaboratory.intrinsic+json": {
              "type": "string"
            }
          },
          "metadata": {},
          "execution_count": 6
        }
      ]
    },
    {
      "cell_type": "markdown",
      "source": [
        "The variables **x_tr and x_tt** are lists of reviews; each review is a list of\n",
        "word indices (encoding a sequence of words).**y_tr and y_tt** are\n",
        "lists of 0s and 1s, where 0 stands for negative and 1 stands for positive:"
      ],
      "metadata": {
        "id": "chbHnzzwJP85"
      }
    },
    {
      "cell_type": "code",
      "source": [],
      "metadata": {
        "id": "6a7iosllOfyf"
      },
      "execution_count": null,
      "outputs": []
    },
    {
      "cell_type": "markdown",
      "source": [
        "# Preparing the data\n",
        "\n",
        "Because I cannot feed lists of integers into a neural network. I need to turn your lists into tensors and there are two ways to do that.\n",
        "\n",
        "\n",
        "*  Pad your lists so that they all have the same length, turn them into an integer\n",
        "tensor of shape (samples, word_indices), and then use as the first layer in\n",
        "your network a layer capable of handling such integer tensors (the Embedding\n",
        "layer, which we’ll cover in detail later in the book). \n",
        "*  One-hot encode your lists to turn them into vectors of 0s and 1s. This would\n",
        "mean, for instance, turning the sequence [3, 5] into a 10,000-dimensional vector\n",
        "that would be all 0s except for indices 3 and 5, which would be 1s. Then you\n",
        "could use as the first layer in your network a Dense layer, capable of handling\n",
        "floating-point vector data.\n",
        "\n",
        "\n",
        "\n",
        "Let’s go with the latter solution to vectorize the data, which you’ll do manually for\n",
        "maximum clarity.\n"
      ],
      "metadata": {
        "id": "GXC_V0d_N3tY"
      }
    },
    {
      "cell_type": "code",
      "source": [
        "# Encoding the integer sequences into a binary matrix\n",
        "\n",
        "def vectorize_seq (sequence, dim= 10000):\n",
        "  results = np.zeros((len(sequence), dim))\n",
        "  for i, sequence in enumerate(sequence):\n",
        "    results[i, sequence] = 1\n",
        "  return results"
      ],
      "metadata": {
        "id": "MuP8ZBSoNjl9"
      },
      "execution_count": 8,
      "outputs": []
    },
    {
      "cell_type": "code",
      "source": [
        "train_data = vectorize_seq(x_tr)\n",
        "print(train_data\n",
        "      )"
      ],
      "metadata": {
        "colab": {
          "base_uri": "https://localhost:8080/"
        },
        "id": "d3HTSHO08uig",
        "outputId": "36d9084f-aa6f-47d1-abc3-651942201c1d"
      },
      "execution_count": 13,
      "outputs": [
        {
          "output_type": "stream",
          "name": "stdout",
          "text": [
            "[[0. 1. 1. ... 0. 0. 0.]\n",
            " [0. 1. 1. ... 0. 0. 0.]\n",
            " [0. 1. 1. ... 0. 0. 0.]\n",
            " ...\n",
            " [0. 1. 1. ... 0. 0. 0.]\n",
            " [0. 1. 1. ... 0. 0. 0.]\n",
            " [0. 1. 1. ... 0. 0. 0.]]\n"
          ]
        }
      ]
    },
    {
      "cell_type": "code",
      "source": [
        "test_data = vectorize_seq(x_tt)\n",
        "print(test_data\n",
        "      )"
      ],
      "metadata": {
        "colab": {
          "base_uri": "https://localhost:8080/"
        },
        "id": "o-XsEXuG88zF",
        "outputId": "6b1d45fb-47de-41e8-b668-302a743598c4"
      },
      "execution_count": 12,
      "outputs": [
        {
          "output_type": "stream",
          "name": "stdout",
          "text": [
            "[[0. 1. 1. ... 0. 0. 0.]\n",
            " [0. 1. 1. ... 0. 0. 0.]\n",
            " [0. 1. 1. ... 0. 0. 0.]\n",
            " ...\n",
            " [0. 1. 1. ... 0. 0. 0.]\n",
            " [0. 1. 1. ... 0. 0. 0.]\n",
            " [0. 1. 1. ... 0. 0. 0.]]\n"
          ]
        }
      ]
    },
    {
      "cell_type": "code",
      "source": [
        "# Vectorize labels as well\n",
        "\n",
        "label_train = np.asarray(y_tr).astype(\"float32\")\n",
        "label_test = np.asarray(y_tt).astype(\"float32\")"
      ],
      "metadata": {
        "id": "1-RlstMf9CoE"
      },
      "execution_count": 14,
      "outputs": []
    },
    {
      "cell_type": "markdown",
      "source": [
        "Now the data is ready to be fed into a neural network.\n",
        "\n",
        "# Building your network"
      ],
      "metadata": {
        "id": "i0r0cDtH-Lnp"
      }
    },
    {
      "cell_type": "code",
      "source": [],
      "metadata": {
        "id": "5LC2T7V0-AGH"
      },
      "execution_count": null,
      "outputs": []
    }
  ]
}